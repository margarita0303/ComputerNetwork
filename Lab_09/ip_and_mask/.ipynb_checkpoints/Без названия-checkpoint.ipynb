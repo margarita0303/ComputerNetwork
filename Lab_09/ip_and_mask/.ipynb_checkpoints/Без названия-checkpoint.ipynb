{
 "cells": [
  {
   "cell_type": "code",
   "execution_count": null,
   "id": "778b35a7",
   "metadata": {},
   "outputs": [],
   "source": [
    "import netifaces\n",
    "\n",
    "for interface in netifaces.interfaces():\n",
    "    try:\n",
    "        print(f'Interface: {interface}')\n",
    "        print(f\"IP Address: {netifaces.ifaddresses(interface)[netifaces.AF_INET][0]['addr']}\")\n",
    "        print(f\"Mask: {netifaces.ifaddresses(interface)[netifaces.AF_INET][0]['netmask']}\")\n",
    "    except:\n",
    "        pass\n"
   ]
  }
 ],
 "metadata": {
  "kernelspec": {
   "display_name": "Python 3 (ipykernel)",
   "language": "python",
   "name": "python3"
  },
  "language_info": {
   "codemirror_mode": {
    "name": "ipython",
    "version": 3
   },
   "file_extension": ".py",
   "mimetype": "text/x-python",
   "name": "python",
   "nbconvert_exporter": "python",
   "pygments_lexer": "ipython3",
   "version": "3.8.8"
  }
 },
 "nbformat": 4,
 "nbformat_minor": 5
}
